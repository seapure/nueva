{
 "cells": [
  {
   "cell_type": "markdown",
   "metadata": {},
   "source": [
    "# OpenCV Tutorial"
   ]
  },
  {
   "cell_type": "code",
   "execution_count": null,
   "metadata": {},
   "outputs": [],
   "source": [
    "# import opencv module\n",
    "import cv2\n",
    "from matplotlib import pyplot as plt\n",
    "import numpy as np\n",
    "import copy\n",
    "\n",
    "# For interactive python:\n",
    "%matplotlib inline  "
   ]
  },
  {
   "cell_type": "markdown",
   "metadata": {},
   "source": [
    "## Reading the image\n",
    "\n",
    "We can use OpenCV's cv2.imread() function to read an image. The image is read as a numpy array, which means we can use both Numpy OR OpenCV to perform operations on an image."
   ]
  },
  {
   "cell_type": "code",
   "execution_count": null,
   "metadata": {},
   "outputs": [],
   "source": [
    "img = cv2.imread('lenna.png')"
   ]
  },
  {
   "cell_type": "code",
   "execution_count": null,
   "metadata": {},
   "outputs": [],
   "source": [
    "# What the 'img' variable looks like\n",
    "img"
   ]
  },
  {
   "cell_type": "code",
   "execution_count": null,
   "metadata": {},
   "outputs": [],
   "source": [
    "# 'img' variable type\n",
    "type(img)"
   ]
  },
  {
   "cell_type": "code",
   "execution_count": null,
   "metadata": {},
   "outputs": [],
   "source": [
    "# We can also find the size and dimensions of the image. Both .size and .shape are numpy functions\n",
    "img.size   # total number of pixels"
   ]
  },
  {
   "cell_type": "code",
   "execution_count": null,
   "metadata": {},
   "outputs": [],
   "source": [
    "# shape (dimensions) of the image\n",
    "img.shape"
   ]
  },
  {
   "cell_type": "markdown",
   "metadata": {},
   "source": [
    "### Displaying an Image\n",
    "\n",
    "Displaying an image can be done with the OpenCV function: cv2.imshow('image display name', variable_name). We also need to execute a cv2.waitKey() function to stop Python from crashing.\n",
    "\n",
    "```\n",
    "cv2.imshow('lenna', img)\n",
    "cv2.waitKey(1000)   # wait for 1 second\n",
    "\n",
    "```\n",
    "\n",
    "However, this does not work in Jupyter's interactive python. We must use matplotlib to display images here"
   ]
  },
  {
   "cell_type": "code",
   "execution_count": null,
   "metadata": {},
   "outputs": [],
   "source": [
    "# for single images, matplotlib may be better\n",
    "plt.imshow(img)\n"
   ]
  },
  {
   "cell_type": "markdown",
   "metadata": {},
   "source": [
    "__Notice anything weird?__  \n",
    "The color of the image looks weird because OpenCV uses a BGR color scheme, while Matplotlib displays images in RGB. Thus, we must convert the image to RGB first"
   ]
  },
  {
   "cell_type": "code",
   "execution_count": null,
   "metadata": {},
   "outputs": [],
   "source": [
    "img = cv2.cvtColor(img, cv2.COLOR_BGR2RGB)\n",
    "plt.imshow(img)\n"
   ]
  },
  {
   "cell_type": "markdown",
   "metadata": {},
   "source": [
    "Now we get the correct image. Lets run some operations on the image"
   ]
  },
  {
   "cell_type": "markdown",
   "metadata": {},
   "source": [
    "## Basic Operations\n",
    "\n",
    "A color image is represented as a 3D array. It is a collection of three 2D images in the R, G, and B channels.  \n",
    "We can use numpy to split the image into its channels."
   ]
  },
  {
   "cell_type": "code",
   "execution_count": null,
   "metadata": {},
   "outputs": [],
   "source": [
    "# Split into three separate images using numpy indexing\n",
    "red_img = img[:,:,0]\n",
    "green_img = img[:,:,1]\n",
    "blue_img = img[:,:,2]\n"
   ]
  },
  {
   "cell_type": "code",
   "execution_count": null,
   "metadata": {},
   "outputs": [],
   "source": [
    "# Display all three images\n",
    "fig = plt.figure()\n",
    "ax1 = fig.add_subplot(1,3,1)\n",
    "ax1.set_title('Red Channel')\n",
    "ax1.imshow(red_img, cmap='gray')\n",
    "\n",
    "ax2 = fig.add_subplot(1,3,2)\n",
    "ax2.set_title('Green Channel')\n",
    "ax2.imshow(green_img, cmap='gray')\n",
    "\n",
    "ax3 = fig.add_subplot(1,3,3)\n",
    "ax3.set_title('Blue Channel')\n",
    "ax3.imshow(blue_img, cmap='gray')"
   ]
  },
  {
   "cell_type": "markdown",
   "metadata": {},
   "source": [
    "We can also modify pixel values using numpy indexing. Let's create a blue patch in the middle of the image."
   ]
  },
  {
   "cell_type": "code",
   "execution_count": null,
   "metadata": {},
   "outputs": [],
   "source": [
    "blue_patch_img = copy.deepcopy(img)    #create a deep copy of the image. Why deep copy?\n",
    "blue_patch_img[100:120, 100:120, :] = [0,0,255]\n",
    "plt.imshow(blue_patch_img)\n"
   ]
  },
  {
   "cell_type": "markdown",
   "metadata": {},
   "source": [
    "We can also copy Lenna's face onto the image."
   ]
  },
  {
   "cell_type": "code",
   "execution_count": null,
   "metadata": {},
   "outputs": [],
   "source": [
    "new_img = copy.deepcopy(img)   # Again, create a deep copy\n",
    "lenna_face = img[100:160, 80:150, :]"
   ]
  },
  {
   "cell_type": "code",
   "execution_count": null,
   "metadata": {},
   "outputs": [],
   "source": [
    "# Make sure to match the dimensions! If you don't you'll get a dimension mismatch error\n",
    "new_img[0:60, 150:220, :]=lenna_face\n",
    "plt.imshow(new_img)"
   ]
  },
  {
   "cell_type": "code",
   "execution_count": null,
   "metadata": {},
   "outputs": [],
   "source": [
    "# Lastly, we can also resize the image and place it wherever it fits!\n",
    "# Currently, lenna_face has dimension of (60,70, 3). Let's change it to (30, 35, 3)\n",
    "lenna_face = cv2.resize(lenna_face, (35, 30))   # Note that resize uses (x, y) \n",
    "new_img[50:80, 60:95, :] = lenna_face\n",
    "new_img[175:205, 110:145, :] = lenna_face\n",
    "plt.imshow(new_img)"
   ]
  },
  {
   "cell_type": "markdown",
   "metadata": {},
   "source": [
    "### OpenCV Functions \n",
    "\n",
    "There are many OpenCV functions that you may use. A friendly read-the-docs page that I used can be found in this __[link](http://opencv-python-tutroals.readthedocs.io/en/latest/py_tutorials/py_tutorials.html).__    \n",
    "Otherwise, use Google.  \n",
    "\n",
    "  \n",
    "\n",
    "Let's try using the Canny Edge Detector. The Canny Edge detector is a very commonly used edge detector in computer vision.\n",
    "  \n",
    "Quick tip: In Jupyter, pressing __Tab__ will show you a list of available functions from the imported list of packages. Also, pressing __Shift+Tab__ inside the parentheses of a function will show you the possible input parameters of the function."
   ]
  },
  {
   "cell_type": "code",
   "execution_count": null,
   "metadata": {},
   "outputs": [],
   "source": [
    "canny = cv2.Canny(img, 100, 200)\n",
    "canny2 = cv2.Canny(img, 50, 120)"
   ]
  },
  {
   "cell_type": "code",
   "execution_count": null,
   "metadata": {},
   "outputs": [],
   "source": [
    "# Display images side by side\n",
    "fig1 = plt.figure()\n",
    "ax1 = fig1.add_subplot(1,3,1)\n",
    "ax1.set_title('Original Image')\n",
    "ax1.imshow(img)\n",
    "\n",
    "ax2 = fig1.add_subplot(1,3,2)\n",
    "ax2.set_title('Low: 100, High: 200')\n",
    "ax2.imshow(canny, cmap='gray')\n",
    "\n",
    "ax3 = fig1.add_subplot(1,3,3)\n",
    "ax3.set_title('Low: 50, High: 120')\n",
    "ax3.imshow(canny2, cmap='gray')"
   ]
  },
  {
   "cell_type": "code",
   "execution_count": null,
   "metadata": {},
   "outputs": [],
   "source": [
    "# Save file into local disk\n",
    "cv2.imwrite('canny_L100_H200.png', canny)"
   ]
  },
  {
   "cell_type": "markdown",
   "metadata": {},
   "source": [
    "## Video Feed\n",
    "\n",
    "\n",
    "It's nice to work with images, but it's also important to work with live video. \n",
    "We can use cv2.VideoCapture() function to capture video. The integer inside cv2.VideoCapture() indicates which camera you want to record from. You can check the list of available cameras by using the following command in __Ubuntu__:\n",
    "\n",
    "```\n",
    "ls /dev/video*\n",
    "```\n",
    "\n",
    "You can execute the code below to display the video feed from your webcam using OpenCV.  \n",
    "__However, closing the video feed will cause Python to crash and thus, kill the Jupyter kernel with it :).__  \n",
    "It may be better to run copy-paste this code into normal python and run it from there."
   ]
  },
  {
   "cell_type": "code",
   "execution_count": null,
   "metadata": {},
   "outputs": [],
   "source": [
    "# turn on webcam, set parameters\n",
    "# Notice that when this cell is run, your webcam LED will turn on\n",
    "cap = cv2.VideoCapture(0)\n",
    "cap.set(cv2.CAP_PROP_FRAME_WIDTH, 600)\n",
    "cap.set(cv2.CAP_PROP_FRAME_HEIGHT, 400)"
   ]
  },
  {
   "cell_type": "code",
   "execution_count": null,
   "metadata": {
    "scrolled": true
   },
   "outputs": [],
   "source": [
    "while True:\n",
    "    _,frame = cap.read()\n",
    "    cv2.imshow('original', frame)\n",
    "    if cv2.waitKey(1) & 0xFF == ord('q'):\n",
    "        break\n",
    "\n",
    "cap.release()\n",
    "cv2.destroyAllWindows()"
   ]
  },
  {
   "cell_type": "code",
   "execution_count": null,
   "metadata": {},
   "outputs": [],
   "source": []
  }
 ],
 "metadata": {
  "kernelspec": {
   "display_name": "Python 3",
   "language": "python",
   "name": "python3"
  },
  "language_info": {
   "codemirror_mode": {
    "name": "ipython",
    "version": 3
   },
   "file_extension": ".py",
   "mimetype": "text/x-python",
   "name": "python",
   "nbconvert_exporter": "python",
   "pygments_lexer": "ipython3",
   "version": "3.5.5"
  }
 },
 "nbformat": 4,
 "nbformat_minor": 2
}
